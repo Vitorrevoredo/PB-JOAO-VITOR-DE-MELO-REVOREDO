{
 "cells": [
  {
   "cell_type": "code",
   "execution_count": 11,
   "id": "f721705d-15b9-4625-bc3e-ff596016dc1d",
   "metadata": {},
   "outputs": [],
   "source": [
    "from pyspark.sql import SparkSession\n",
    "from pyspark import SparkContext, SQLContext\n",
    "from pyspark.sql.functions import lit, rand, when\n",
    "import random"
   ]
  },
  {
   "cell_type": "code",
   "execution_count": 12,
   "id": "40cb9f1e-93de-4838-b91f-aff9cedfae89",
   "metadata": {},
   "outputs": [],
   "source": [
    "spark = SparkSession.builder \\\n",
    "    .master(\"local[*]\") \\\n",
    "    .appName(\"Exercicio Intro\") \\\n",
    "    .getOrCreate()"
   ]
  },
  {
   "cell_type": "code",
   "execution_count": 15,
   "id": "6b4bd569-ecd0-4edf-9a40-51ee716f2cd5",
   "metadata": {},
   "outputs": [
    {
     "name": "stdout",
     "output_type": "stream",
     "text": [
      "+----------------+\n",
      "|             _c0|\n",
      "+----------------+\n",
      "|  Frances Bennet|\n",
      "|   Jamie Russell|\n",
      "|  Edward Kistler|\n",
      "|   Sheila Maurer|\n",
      "|Donald Golightly|\n",
      "+----------------+\n",
      "only showing top 5 rows\n",
      "\n"
     ]
    }
   ],
   "source": [
    "# Leitura do arquivo nomes_aleatorios.txt\n",
    "df_nomes = spark.read.csv(\"nomes_aleatorios.txt\", header=False, inferSchema=True)\n",
    "df_nomes.show(5)"
   ]
  },
  {
   "cell_type": "code",
   "execution_count": 16,
   "id": "46954d83-59f5-48ab-a427-9c6604ed26ee",
   "metadata": {},
   "outputs": [
    {
     "name": "stdout",
     "output_type": "stream",
     "text": [
      "root\n",
      " |-- Nome: string (nullable = true)\n",
      "\n",
      "+-----------------+\n",
      "|             Nome|\n",
      "+-----------------+\n",
      "|   Frances Bennet|\n",
      "|    Jamie Russell|\n",
      "|   Edward Kistler|\n",
      "|    Sheila Maurer|\n",
      "| Donald Golightly|\n",
      "|       David Gray|\n",
      "|      Joy Bennett|\n",
      "|      Paul Kriese|\n",
      "|Berniece Ornellas|\n",
      "|    Brian Farrell|\n",
      "+-----------------+\n",
      "only showing top 10 rows\n",
      "\n"
     ]
    }
   ],
   "source": [
    "df_nomes = df_nomes.withColumnRenamed(\"_c0\", \"Nome\")\n",
    "df_nomes.printSchema()\n",
    "df_nomes.show(10)"
   ]
  },
  {
   "cell_type": "code",
   "execution_count": 17,
   "id": "6e123484-e7a6-4c7a-9e87-27d92afb13c2",
   "metadata": {},
   "outputs": [
    {
     "name": "stdout",
     "output_type": "stream",
     "text": [
      "+----------------+------------+\n",
      "|            Nome|Escolaridade|\n",
      "+----------------+------------+\n",
      "|  Frances Bennet|       Medio|\n",
      "|   Jamie Russell| Fundamental|\n",
      "|  Edward Kistler| Fundamental|\n",
      "|   Sheila Maurer|       Medio|\n",
      "|Donald Golightly|       Medio|\n",
      "+----------------+------------+\n",
      "only showing top 5 rows\n",
      "\n"
     ]
    }
   ],
   "source": [
    "# 3. Adicionar a coluna \"Escolaridade\" com valores aleatórios\n",
    "escolaridade = ['Fundamental', 'Medio', 'Superior']\n",
    "df_nomes = df_nomes.withColumn('Escolaridade', when(rand() < 0.33, lit('Fundamental'))\n",
    "                                          .when(rand() < 0.66, lit('Medio'))\n",
    "                                          .otherwise(lit('Superior')))\n",
    "df_nomes.show(5)"
   ]
  },
  {
   "cell_type": "code",
   "execution_count": 18,
   "id": "84d4bf89-ba2b-4b1d-8b84-1af0d250dfeb",
   "metadata": {},
   "outputs": [
    {
     "name": "stdout",
     "output_type": "stream",
     "text": [
      "+----------------+------------+---------+\n",
      "|            Nome|Escolaridade|     Pais|\n",
      "+----------------+------------+---------+\n",
      "|  Frances Bennet|       Medio|Argentina|\n",
      "|   Jamie Russell| Fundamental|Argentina|\n",
      "|  Edward Kistler| Fundamental|     Peru|\n",
      "|   Sheila Maurer|       Medio|    Chile|\n",
      "|Donald Golightly|       Medio|     Peru|\n",
      "+----------------+------------+---------+\n",
      "only showing top 5 rows\n",
      "\n"
     ]
    }
   ],
   "source": [
    "# 4. Adicionar a coluna \"Pais\" com valores aleatórios de países da América do Sul\n",
    "paises_sul_america = ['Brasil', 'Argentina', 'Chile', 'Peru', 'Colombia', 'Venezuela', 'Equador', 'Bolivia', 'Paraguai', 'Uruguai', 'Guiana', 'Suriname', 'Franca Guiana']\n",
    "df_nomes = df_nomes.withColumn('Pais', when(rand() < 0.0769, lit('Brasil'))\n",
    "                                    .when(rand() < 0.1538, lit('Argentina'))\n",
    "                                    .when(rand() < 0.2308, lit('Chile'))\n",
    "                                    .when(rand() < 0.3077, lit('Peru'))\n",
    "                                    .when(rand() < 0.3846, lit('Colombia'))\n",
    "                                    .when(rand() < 0.4615, lit('Venezuela'))\n",
    "                                    .when(rand() < 0.5385, lit('Equador'))\n",
    "                                    .when(rand() < 0.6154, lit('Bolivia'))\n",
    "                                    .when(rand() < 0.6923, lit('Paraguai'))\n",
    "                                    .when(rand() < 0.7692, lit('Uruguai'))\n",
    "                                    .when(rand() < 0.8461, lit('Guiana'))\n",
    "                                    .when(rand() < 0.9230, lit('Suriname'))\n",
    "                                    .otherwise(lit('Franca Guiana')))\n",
    "df_nomes.show(5)"
   ]
  },
  {
   "cell_type": "code",
   "execution_count": 19,
   "id": "5b015934-a255-47d9-9c49-51bfea4c30c1",
   "metadata": {},
   "outputs": [
    {
     "name": "stdout",
     "output_type": "stream",
     "text": [
      "+----------------+------------+---------+-------------+\n",
      "|            Nome|Escolaridade|     Pais|AnoNascimento|\n",
      "+----------------+------------+---------+-------------+\n",
      "|  Frances Bennet|       Medio|Argentina|         1950|\n",
      "|   Jamie Russell| Fundamental|Argentina|         1968|\n",
      "|  Edward Kistler| Fundamental|     Peru|         1983|\n",
      "|   Sheila Maurer|       Medio|    Chile|         1953|\n",
      "|Donald Golightly|       Medio|     Peru|         1982|\n",
      "+----------------+------------+---------+-------------+\n",
      "only showing top 5 rows\n",
      "\n"
     ]
    }
   ],
   "source": [
    "# 5. Adicionar a coluna \"AnoNascimento\" com valores aleatórios entre 1945 e 2010\n",
    "df_nomes = df_nomes.withColumn('AnoNascimento', (rand() * 65 + 1945).cast('int'))\n",
    "df_nomes.show(5)"
   ]
  },
  {
   "cell_type": "code",
   "execution_count": 20,
   "id": "5fc68c11-ea7c-4cf4-8f67-18cdffb8917a",
   "metadata": {},
   "outputs": [
    {
     "name": "stdout",
     "output_type": "stream",
     "text": [
      "+---------------+------------+---------+-------------+\n",
      "|           Nome|Escolaridade|     Pais|AnoNascimento|\n",
      "+---------------+------------+---------+-------------+\n",
      "|   David Medina|    Superior|     Peru|         2007|\n",
      "| Lorenzo Woodis|    Superior|     Peru|         2007|\n",
      "|   Charles Hill| Fundamental|  Bolivia|         2004|\n",
      "|       Mary Lee|       Medio|  Equador|         2005|\n",
      "|     Daryl Page| Fundamental|Venezuela|         2007|\n",
      "| Wilfredo Grant|    Superior|     Peru|         2001|\n",
      "| Katrina Graham|       Medio|   Brasil|         2003|\n",
      "|Jerry Chynoweth| Fundamental| Colombia|         2005|\n",
      "| Mary Dillahunt| Fundamental|     Peru|         2002|\n",
      "|   James Barton|    Superior|Venezuela|         2005|\n",
      "+---------------+------------+---------+-------------+\n",
      "only showing top 10 rows\n",
      "\n"
     ]
    }
   ],
   "source": [
    "# 6. Filtrando pessoas que nasceram neste século (2001 - 2100)\n",
    "df_select = df_nomes.filter(df_nomes.AnoNascimento >= 2001)\n",
    "df_select.show(10)"
   ]
  },
  {
   "cell_type": "code",
   "execution_count": 21,
   "id": "91083eaa-85ab-4578-ba5d-69db394c6a34",
   "metadata": {},
   "outputs": [
    {
     "name": "stdout",
     "output_type": "stream",
     "text": [
      "+---------------+------------+---------+-------------+\n",
      "|           Nome|Escolaridade|     Pais|AnoNascimento|\n",
      "+---------------+------------+---------+-------------+\n",
      "|   David Medina|    Superior|     Peru|         2007|\n",
      "| Lorenzo Woodis|    Superior|     Peru|         2007|\n",
      "|   Charles Hill| Fundamental|  Bolivia|         2004|\n",
      "|       Mary Lee|       Medio|  Equador|         2005|\n",
      "|     Daryl Page| Fundamental|Venezuela|         2007|\n",
      "| Wilfredo Grant|    Superior|     Peru|         2001|\n",
      "| Katrina Graham|       Medio|   Brasil|         2003|\n",
      "|Jerry Chynoweth| Fundamental| Colombia|         2005|\n",
      "| Mary Dillahunt| Fundamental|     Peru|         2002|\n",
      "|   James Barton|    Superior|Venezuela|         2005|\n",
      "+---------------+------------+---------+-------------+\n",
      "only showing top 10 rows\n",
      "\n"
     ]
    }
   ],
   "source": [
    "# 7. Usando Spark SQL\n",
    "df_nomes.createOrReplaceTempView(\"pessoas\")\n",
    "df_select_sql = spark.sql(\"SELECT * FROM pessoas WHERE AnoNascimento >= 2001\")\n",
    "df_select_sql.show(10)"
   ]
  },
  {
   "cell_type": "code",
   "execution_count": 22,
   "id": "d9837b0d-24aa-42fc-8518-4e322a20782f",
   "metadata": {},
   "outputs": [
    {
     "name": "stdout",
     "output_type": "stream",
     "text": [
      "Total de Millenials: 2306200\n"
     ]
    }
   ],
   "source": [
    "# 8. Contando pessoas que são da geração Millenials (nascidos entre 1980 e 1994)\n",
    "df_millenials = df_nomes.filter(df_nomes.AnoNascimento.between(1980, 1994))\n",
    "print(f\"Total de Millenials: {df_millenials.count()}\")"
   ]
  },
  {
   "cell_type": "code",
   "execution_count": 23,
   "id": "e2c86415-6740-4d79-940e-fe4b1cfb3f2e",
   "metadata": {},
   "outputs": [
    {
     "name": "stdout",
     "output_type": "stream",
     "text": [
      "+--------+\n",
      "|count(1)|\n",
      "+--------+\n",
      "| 2306200|\n",
      "+--------+\n",
      "\n"
     ]
    }
   ],
   "source": [
    "# 9. Usando Spark SQL para contar Millenials\n",
    "df_millenials_sql = spark.sql(\"SELECT COUNT(*) FROM pessoas WHERE AnoNascimento BETWEEN 1980 AND 1994\")\n",
    "df_millenials_sql.show()"
   ]
  },
  {
   "cell_type": "code",
   "execution_count": 24,
   "id": "d3e801fd-3222-4297-8c5f-6f5823d91b5f",
   "metadata": {},
   "outputs": [
    {
     "name": "stdout",
     "output_type": "stream",
     "text": [
      "+---------+------------+----------+\n",
      "|     Pais|     Geracao|Quantidade|\n",
      "+---------+------------+----------+\n",
      "|Argentina|Baby Boomers|    437201|\n",
      "|Argentina|   Geracao X|    327557|\n",
      "|Argentina|   Geracao Z|    328567|\n",
      "|Argentina|  Millenials|    326818|\n",
      "|  Bolivia|Baby Boomers|    119598|\n",
      "|  Bolivia|   Geracao X|     90235|\n",
      "|  Bolivia|   Geracao Z|     90493|\n",
      "|  Bolivia|  Millenials|     90696|\n",
      "|   Brasil|Baby Boomers|    236257|\n",
      "|   Brasil|   Geracao X|    177967|\n",
      "|   Brasil|   Geracao Z|    177010|\n",
      "|   Brasil|  Millenials|    177236|\n",
      "|    Chile|Baby Boomers|    554553|\n",
      "|    Chile|   Geracao X|    416199|\n",
      "|    Chile|   Geracao Z|    416573|\n",
      "|    Chile|  Millenials|    415817|\n",
      "| Colombia|Baby Boomers|    492922|\n",
      "| Colombia|   Geracao X|    369425|\n",
      "| Colombia|   Geracao Z|    368624|\n",
      "| Colombia|  Millenials|    369660|\n",
      "+---------+------------+----------+\n",
      "only showing top 20 rows\n",
      "\n"
     ]
    }
   ],
   "source": [
    "# 10. Quantidade de pessoas por país para cada geração\n",
    "generations_sql = \"\"\"\n",
    "    SELECT \n",
    "        Pais,\n",
    "        CASE \n",
    "            WHEN AnoNascimento BETWEEN 1944 AND 1964 THEN 'Baby Boomers'\n",
    "            WHEN AnoNascimento BETWEEN 1965 AND 1979 THEN 'Geracao X'\n",
    "            WHEN AnoNascimento BETWEEN 1980 AND 1994 THEN 'Millenials'\n",
    "            WHEN AnoNascimento BETWEEN 1995 AND 2015 THEN 'Geracao Z'\n",
    "        END AS Geracao,\n",
    "        COUNT(*) AS Quantidade\n",
    "    FROM pessoas\n",
    "    GROUP BY Pais, Geracao\n",
    "    ORDER BY Pais, Geracao, Quantidade\n",
    "\"\"\"\n",
    "df_generations_sql = spark.sql(generations_sql)\n",
    "df_generations_sql.show()"
   ]
  },
  {
   "cell_type": "code",
   "execution_count": null,
   "id": "05439388-21f3-4462-bf1b-9e69809c4413",
   "metadata": {},
   "outputs": [],
   "source": []
  }
 ],
 "metadata": {
  "kernelspec": {
   "display_name": "Python 3 (ipykernel)",
   "language": "python",
   "name": "python3"
  },
  "language_info": {
   "codemirror_mode": {
    "name": "ipython",
    "version": 3
   },
   "file_extension": ".py",
   "mimetype": "text/x-python",
   "name": "python",
   "nbconvert_exporter": "python",
   "pygments_lexer": "ipython3",
   "version": "3.11.6"
  }
 },
 "nbformat": 4,
 "nbformat_minor": 5
}
