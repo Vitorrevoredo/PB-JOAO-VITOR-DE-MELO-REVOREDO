{
 "cells": [
  {
   "cell_type": "code",
   "execution_count": null,
   "metadata": {},
   "outputs": [
    {
     "data": {
      "text/plain": [
       "Lista invertida: [624, 715, 552, 243, 786, 256, 449, 468, 485, 9, 499, 158, 351, 422, 594, 209, 363, 446, 496, 119, 771, 175, 947, 630, 113, 631, 255, 581, 168, 393, 25, 677, 760, 353, 967, 752, 425, 790, 203, 454, 849, 544, 550, 114, 895, 876, 355, 916, 584, 342, 846, 516, 801, 465, 440, 680, 80, 536, 923, 24, 1, 209, 859, 492, 349, 30, 703, 65, 570, 214, 786, 538, 413, 368, 94, 628, 745, 884, 905, 680, 336, 343, 848, 244, 854, 538, 618, 20, 222, 650, 636, 300, 781, 210, 296, 415, 699, 501, 646, 89, 930, 667, 106, 375, 551, 663, 507, 480, 537, 251, 617, 881, 653, 946, 67, 490, 251, 191, 123, 368, 499, 574, 503, 97, 643, 248, 345, 939, 652, 713, 318, 612, 73, 578, 996, 200, 615, 611, 229, 640, 970, 75, 717, 306, 372, 937, 179, 579, 2, 131, 41, 683, 265, 278, 982, 528, 228, 277, 282, 919, 113, 343, 523, 127, 370, 616, 924, 911, 728, 404, 213, 244, 903, 465, 489, 252, 100, 24, 708, 76, 852, 867, 614, 456, 825, 353, 652, 537, 813, 530, 390, 42, 782, 958, 455, 314, 533, 296, 643, 541, 651, 361, 634, 98, 455, 205, 47, 387, 316, 448, 574, 208, 828, 97, 941, 99, 789, 103, 614, 451, 179, 812, 884, 181, 206, 445, 678, 318, 146, 525, 685, 963, 166, 47, 135, 184, 194, 893, 602, 325, 745, 741, 923, 558, 28, 278, 417, 874, 553, 861]\n"
      ]
     },
     "metadata": {},
     "output_type": "display_data"
    }
   ],
   "source": [
    "from random import randint\n",
    "\n",
    "lista = list()\n",
    "\n",
    "# Gerar 250 números aleatórios entre 1 e 1000\n",
    "for c in range(250):\n",
    "    numeros = randint(1, 1000)\n",
    "    lista.append(numeros)\n",
    "\n",
    "# Inverter a lista\n",
    "lista.reverse()\n",
    "\n",
    "# Imprimir o resultado\n",
    "print(\"Lista invertida:\", lista)\n"
   ]
  },
  {
   "cell_type": "code",
   "execution_count": null,
   "metadata": {},
   "outputs": [
    {
     "data": {
      "text/plain": [
       "Arara\n",
       "Cachorro\n",
       "Cavalo\n",
       "Coelho\n",
       "Coruja\n",
       "Elefante\n",
       "Gato\n",
       "Girafa\n",
       "Golfinho\n",
       "Jacaré\n",
       "Leão\n",
       "Lobo\n",
       "Papagaio\n",
       "Pinguim\n",
       "Porquinho-da-Índia\n",
       "Rinoceronte\n",
       "Tartaruga\n",
       "Tigre\n",
       "Urso\n",
       "Zebra\n"
      ]
     },
     "metadata": {},
     "output_type": "display_data"
    }
   ],
   "source": [
    "# Passo 2: Lista de animais\n",
    "animais = [\n",
    "    \"Cachorro\", \"Gato\", \"Papagaio\", \"Elefante\", \"Tigre\",\n",
    "    \"Girafa\", \"Rinoceronte\", \"Coelho\", \"Lobo\", \"Urso\",\n",
    "    \"Zebra\", \"Leão\", \"Tartaruga\", \"Arara\", \"Porquinho-da-Índia\",\n",
    "    \"Cavalo\", \"Golfinho\", \"Jacaré\", \"Pinguim\", \"Coruja\"\n",
    "]\n",
    "\n",
    "# Ordenar em ordem alfabética\n",
    "animais_ordenados = list()\n",
    "for animal in sorted(animais):\n",
    "    animais_ordenados.append(animal)\n",
    "\n",
    "# Imprimir os animais ordenados\n",
    "for animal in animais_ordenados:\n",
    "    print(animal)\n",
    "\n",
    "# Salvar a lista em um arquivo CSV\n",
    "with open(\"animais.csv\", \"w\", encoding=\"utf-8\") as arquivo:\n",
    "    for animal in animais_ordenados:\n",
    "        arquivo.write(animal + \"\\n\")\n"
   ]
  },
  {
   "cell_type": "code",
   "execution_count": null,
   "metadata": {},
   "outputs": [],
   "source": [
    "import random\n",
    "import names\n",
    "import time\n",
    "import os\n",
    "\n",
    "# Parâmetros\n",
    "random.seed(40)  # Definir a semente de aleatoriedade\n",
    "qtd_nomes_unicos = 3000\n",
    "qtd_nomes_aleatorios = 10000000\n",
    "\n",
    "# Gerar lista de nomes únicos\n",
    "nomes_unicos = list()\n",
    "for _ in range(qtd_nomes_unicos):\n",
    "    nome = names.get_full_name()\n",
    "    nomes_unicos.append(nome)\n",
    "\n",
    "# Gerar a lista completa de nomes aleatórios\n",
    "dados = list()\n",
    "for _ in range(qtd_nomes_aleatorios):\n",
    "    dados.append(random.choice(nomes_unicos))\n",
    "\n",
    "# Salvar os nomes no arquivo \"nomes_aleatorios.txt\"\n",
    "arquivo_saida = \"nomes_aleatorios.txt\"\n",
    "with open(arquivo_saida, \"w\", encoding=\"utf-8\") as arquivo:\n",
    "    for nome in dados:\n",
    "        arquivo.write(nome + \"\\n\")\n"
   ]
  },
  {
   "cell_type": "code",
   "execution_count": null,
   "metadata": {},
   "outputs": [
    {
     "data": {
      "text/plain": [
       "Primeiras linhas do arquivo:\n",
       "Frances Bennet\n",
       "Jamie Russell\n",
       "Edward Kistler\n",
       "Sheila Maurer\n",
       "Donald Golightly\n",
       "David Gray\n",
       "Joy Bennett\n",
       "Paul Kriese\n",
       "Berniece Ornellas\n",
       "Brian Farrell\n"
      ]
     },
     "metadata": {},
     "output_type": "display_data"
    }
   ],
   "source": [
    "# Abrir o arquivo e verificar o conteúdo\n",
    "with open(\"nomes_aleatorios.txt\", \"r\", encoding=\"utf-8\") as arquivo:\n",
    "    conteudo = arquivo.readlines()\n",
    "\n",
    "# Imprimir as primeiras 10 linhas para verificação\n",
    "print(\"Primeiras linhas do arquivo:\")\n",
    "for i in range(10):\n",
    "    print(conteudo[i].strip())\n"
   ]
  },
  {
   "cell_type": "code",
   "execution_count": null,
   "metadata": {},
   "outputs": [],
   "source": []
  }
 ],
 "metadata": {
  "language_info": {
   "name": "python"
  }
 },
 "nbformat": 4,
 "nbformat_minor": 2
}
