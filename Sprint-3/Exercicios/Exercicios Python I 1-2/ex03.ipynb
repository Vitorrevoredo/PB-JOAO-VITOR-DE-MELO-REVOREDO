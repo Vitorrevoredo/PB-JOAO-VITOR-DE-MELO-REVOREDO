{
 "cells": [
  {
   "cell_type": "markdown",
   "id": "29b3f547-55e8-4450-a4fd-ae34c67ff4b0",
   "metadata": {},
   "source": [
    "Escreva um código Python para imprimir os números pares de 0 até 20 (incluso).\n",
    "Importante: Aplique a função range() em seu código."
   ]
  },
  {
   "cell_type": "code",
   "execution_count": 3,
   "id": "f3740879-ee62-4f8c-8fd3-f5c23da17df8",
   "metadata": {},
   "outputs": [
    {
     "name": "stdout",
     "output_type": "stream",
     "text": [
      "0\n",
      "2\n",
      "4\n",
      "6\n",
      "8\n",
      "10\n",
      "12\n",
      "14\n",
      "16\n",
      "18\n",
      "20\n"
     ]
    }
   ],
   "source": [
    "for c in range(0,21):\n",
    "    if c % 2 == 0:\n",
    "        print(c);"
   ]
  }
 ],
 "metadata": {
  "kernelspec": {
   "display_name": "Python 3 (ipykernel)",
   "language": "python",
   "name": "python3"
  },
  "language_info": {
   "codemirror_mode": {
    "name": "ipython",
    "version": 3
   },
   "file_extension": ".py",
   "mimetype": "text/x-python",
   "name": "python",
   "nbconvert_exporter": "python",
   "pygments_lexer": "ipython3",
   "version": "3.12.4"
  }
 },
 "nbformat": 4,
 "nbformat_minor": 5
}
