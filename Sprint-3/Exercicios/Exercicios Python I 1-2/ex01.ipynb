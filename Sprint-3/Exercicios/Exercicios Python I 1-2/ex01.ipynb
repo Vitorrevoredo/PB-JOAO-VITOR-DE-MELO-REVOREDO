{
 "cells": [
  {
   "cell_type": "markdown",
   "id": "2c499c2e-6ebe-4b47-a289-19379f9d2a9d",
   "metadata": {},
   "source": [
    "Desenvolva um código em Python que crie variáveis para armazenar o nome e a idade de uma pessoa, juntamente com seus valores correspondentes.\n",
    "Como saída, imprima o ano em que a pessoa completará 100 anos de idade."
   ]
  },
  {
   "cell_type": "code",
   "execution_count": 1,
   "id": "a0977964-dfe8-4b95-984b-338d1aad4aa2",
   "metadata": {},
   "outputs": [
    {
     "name": "stdout",
     "output_type": "stream",
     "text": [
      "2103\n"
     ]
    }
   ],
   "source": [
    "from datetime import date\n",
    "nome = \"Vitor\"  \n",
    "idade = 21      \n",
    "anoAtual = int(date.today().strftime('%Y'))\n",
    "\n",
    "nasc = anoAtual - idade\n",
    "completou = nasc + 100\n",
    "\n",
    "print(completou)"
   ]
  }
 ],
 "metadata": {
  "kernelspec": {
   "display_name": "Python 3 (ipykernel)",
   "language": "python",
   "name": "python3"
  },
  "language_info": {
   "codemirror_mode": {
    "name": "ipython",
    "version": 3
   },
   "file_extension": ".py",
   "mimetype": "text/x-python",
   "name": "python",
   "nbconvert_exporter": "python",
   "pygments_lexer": "ipython3",
   "version": "3.12.4"
  }
 },
 "nbformat": 4,
 "nbformat_minor": 5
}
