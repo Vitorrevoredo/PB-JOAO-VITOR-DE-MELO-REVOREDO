{
 "cells": [
  {
   "cell_type": "markdown",
   "id": "5f5a9437-840e-4654-8dd3-f449f98c4161",
   "metadata": {},
   "source": [
    "Escreva um código Python que use a função range() para adicionar três números em uma lista(Esta lista deve chamar-se 'números')  e verificar se esses três números são pares ou ímpares. Para cada número, imprima como saída Par: ou Ímpar: e o número correspondente (um linha para cada número lido).\r",
    "\r\n"
   ]
  },
  {
   "cell_type": "code",
   "execution_count": 3,
   "id": "dc5aceb6-96b0-47b2-9ab4-9ef83422d318",
   "metadata": {},
   "outputs": [
    {
     "name": "stdout",
     "output_type": "stream",
     "text": [
      "Par: 0\n",
      "Ímpar: 1\n",
      "Par: 2\n"
     ]
    }
   ],
   "source": [
    "numeros = []\n",
    "for c in range(0,3):\n",
    "    numeros.append(c)\n",
    "    if c % 2 == 0:\n",
    "        print(f\"Par: {c}\")\n",
    "    else:\n",
    "        print(f\"Ímpar: {c}\")"
   ]
  }
 ],
 "metadata": {
  "kernelspec": {
   "display_name": "Python 3 (ipykernel)",
   "language": "python",
   "name": "python3"
  },
  "language_info": {
   "codemirror_mode": {
    "name": "ipython",
    "version": 3
   },
   "file_extension": ".py",
   "mimetype": "text/x-python",
   "name": "python",
   "nbconvert_exporter": "python",
   "pygments_lexer": "ipython3",
   "version": "3.12.4"
  }
 },
 "nbformat": 4,
 "nbformat_minor": 5
}
