{
 "cells": [
  {
   "cell_type": "markdown",
   "id": "5142260b-995f-473d-ad88-53ab80013eb6",
   "metadata": {},
   "source": [
    "Exercícios Parte 2\r\n",
    "Dada as listas a seguir\r\n",
    "\r\n",
    "\r\n",
    "primeirosNomes = ['Joao', 'Douglas', 'Lucas', 'José']\r\n",
    "sobreNomes = ['Soares', 'Souza', 'Silveira', 'Pedreira']\r\n",
    "idades = [19, 28, 2, 31]\r\n",
    "\r\n",
    "\r\n",
    "Faça um programa que imprima o dados na seguinte estrutura: \"índice - primeiroNome sobreNome está com ida anos\".\r\n",
    "\n",
    "\r\n",
    "\r\n",
    "Exemplo:\r\n",
    "\r\n",
    "0 - João Soares está com 19 anos"
   ]
  },
  {
   "cell_type": "code",
   "execution_count": 16,
   "id": "eaf5f123-9b82-4d30-bf38-010988b54c2e",
   "metadata": {},
   "outputs": [
    {
     "name": "stdout",
     "output_type": "stream",
     "text": [
      "0 - Joao Soares está com 19 anos\n",
      "1 - Douglas Souza está com 28 anos\n",
      "2 - Lucas Silveira está com 25 anos\n",
      "3 - José Pedreira está com 31 anos\n"
     ]
    }
   ],
   "source": [
    "primeirosNomes = ['Joao', 'Douglas', 'Lucas', 'José']\n",
    "sobreNomes = ['Soares', 'Souza', 'Silveira', 'Pedreira']\n",
    "idades = [19, 28, 25, 31]\n",
    "for indice, (primeiroNome, sobreNome, idade) in enumerate(zip(primeirosNomes, sobreNomes, idades)):\n",
    "    print(f\"{indice} - {primeiroNome} {sobreNome} está com {idade} anos\")\n"
   ]
  },
  {
   "cell_type": "code",
   "execution_count": null,
   "id": "49dc55e1-383e-40b0-a442-810ded80876d",
   "metadata": {},
   "outputs": [],
   "source": []
  }
 ],
 "metadata": {
  "kernelspec": {
   "display_name": "Python 3 (ipykernel)",
   "language": "python",
   "name": "python3"
  },
  "language_info": {
   "codemirror_mode": {
    "name": "ipython",
    "version": 3
   },
   "file_extension": ".py",
   "mimetype": "text/x-python",
   "name": "python",
   "nbconvert_exporter": "python",
   "pygments_lexer": "ipython3",
   "version": "3.12.4"
  }
 },
 "nbformat": 4,
 "nbformat_minor": 5
}
