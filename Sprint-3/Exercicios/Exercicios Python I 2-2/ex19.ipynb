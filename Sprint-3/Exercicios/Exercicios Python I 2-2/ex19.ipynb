{
 "cells": [
  {
   "cell_type": "markdown",
   "id": "aa1b7394-8c7a-44ee-ab87-ae748ee5a275",
   "metadata": {},
   "source": [
    "Calcule o valor mínimo, valor máximo, valor médio e a mediana da lista gerada na célula abaixo:\n",
    "\r\n",
    "\r\n",
    "Obs.: Lembrem-se, para calcular a mediana a lista deve estar orden!\r\n",
    "\r\n",
    "\r\n",
    "\r\n",
    "import random \r\n",
    "# amostra aleatoriamente 50 números do intervalo 0...500\r\n",
    "random_list = random.sample(range500),50)\r\n",
    "\r\n",
    "\r\n",
    "Use as variáveis abaixo para representar cada operaçãatemática:\r\n",
    "\r\n",
    "\r\n",
    "\r\n",
    "mediana\r\n",
    "media\r\n",
    "valor_minmo \r\n",
    "valor_maximo \r\n",
    "\r\n",
    "\r\n",
    "Importante: Esperamos que você utilize as funçõe\n",
    "b-aixo e -seuc-ódio-:\r\n",
    "\r"
   ]
  },
  {
   "cell_type": "code",
   "execution_count": 36,
   "id": "8a7dd882-9821-4980-8886-2954ac71302d",
   "metadata": {},
   "outputs": [
    {
     "name": "stdout",
     "output_type": "stream",
     "text": [
      "Media: 253.52, Mediana: 267.0, Mínimo: 0, Máximo: 492\n"
     ]
    }
   ],
   "source": [
    "import random\n",
    "random_list = random.sample(range(500), 50)\n",
    "                           \n",
    "listaOrdenada = sorted(random_list)\n",
    "media = sum(random_list) / len(random_list)\n",
    "valor_minimo = min(random_list)\n",
    "valor_maximo = max(random_list)\n",
    "n = len(listaOrdenada)\n",
    "if n % 2 == 0:\n",
    "    mediana = (listaOrdenada[n//2 - 1] + listaOrdenada[n//2]) / 2\n",
    "else:\n",
    "    mediana = listaOrdenada[n//2]\n",
    "\n",
    "print(f\"Media: {media}\", end=', ')\n",
    "print(f\"Mediana: {mediana}\", end=', ')\n",
    "print(f\"Mínimo: {valor_minimo}\", end = ', ')\n",
    "print(f\"Máximo: {valor_maximo}\")\n"
   ]
  },
  {
   "cell_type": "code",
   "execution_count": null,
   "id": "5732ee4b-3257-4fd7-ad0e-a1cc42c6ed35",
   "metadata": {},
   "outputs": [],
   "source": []
  }
 ],
 "metadata": {
  "kernelspec": {
   "display_name": "Python 3 (ipykernel)",
   "language": "python",
   "name": "python3"
  },
  "language_info": {
   "codemirror_mode": {
    "name": "ipython",
    "version": 3
   },
   "file_extension": ".py",
   "mimetype": "text/x-python",
   "name": "python",
   "nbconvert_exporter": "python",
   "pygments_lexer": "ipython3",
   "version": "3.12.4"
  }
 },
 "nbformat": 4,
 "nbformat_minor": 5
}
