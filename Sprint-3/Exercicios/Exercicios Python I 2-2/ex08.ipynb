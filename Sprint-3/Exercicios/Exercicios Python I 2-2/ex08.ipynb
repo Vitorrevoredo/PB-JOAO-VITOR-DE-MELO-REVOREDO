{
 "cells": [
  {
   "cell_type": "markdown",
   "id": "e4affa05-e4d0-4075-a20d-1ba2c9b20313",
   "metadata": {},
   "source": [
    "Verifique se cada uma das palavras da lista ['maça', 'arara', 'audio', 'radio', 'radar', 'moto'] é ou não um palíndromo.\r\n",
    "\r\n",
    "Obs: Palíndromo é uma palavra que permanece igual se lida de traz pra frent\n",
    "\r\n",
    "\r\n",
    "\r\n",
    "É necessário que você imprima no console exatamente aA palavra: maça não é um palíndromo\r\n",
    " \r\n",
    "A palavra: arara é um palíndromo\r\n",
    " \r\n",
    "A palavra: audio não é um palíndromo\r\n",
    " \r\n",
    "A palavra: radio não é um palíndromo\r\n",
    " \r\n",
    "A palavra: radar é um paomo\r\n",
    " ssim:\r\n",
    "\r\n",
    "\r\n",
    "\r\n"
   ]
  },
  {
   "cell_type": "code",
   "execution_count": 18,
   "id": "068d0bfe-0ed6-454f-bb6d-782f9e4fdb05",
   "metadata": {},
   "outputs": [
    {
     "name": "stdout",
     "output_type": "stream",
     "text": [
      "A palavra: maça não é um palíndromo\n",
      "A palavra: arara é um palíndromo\n",
      "A palavra: audio não é um palíndromo\n",
      "A palavra: radio não é um palíndromo\n",
      "A palavra: radar é um palíndromo\n",
      "A palavra: moto não é um palíndromo\n"
     ]
    }
   ],
   "source": [
    "lista = ['maça', 'arara', 'audio', 'radio', 'radar', 'moto']\n",
    "for c in lista:\n",
    "    if c == c[::-1]:\n",
    "        print(f\"A palavra: {c} é um palíndromo\")\n",
    "    else:\n",
    "        print(f\"A palavra: {c} não é um palíndromo\")"
   ]
  },
  {
   "cell_type": "code",
   "execution_count": null,
   "id": "79d4d09d-75e5-49b7-b35c-e543f216349f",
   "metadata": {},
   "outputs": [],
   "source": []
  }
 ],
 "metadata": {
  "kernelspec": {
   "display_name": "Python 3 (ipykernel)",
   "language": "python",
   "name": "python3"
  },
  "language_info": {
   "codemirror_mode": {
    "name": "ipython",
    "version": 3
   },
   "file_extension": ".py",
   "mimetype": "text/x-python",
   "name": "python",
   "nbconvert_exporter": "python",
   "pygments_lexer": "ipython3",
   "version": "3.12.4"
  }
 },
 "nbformat": 4,
 "nbformat_minor": 5
}
