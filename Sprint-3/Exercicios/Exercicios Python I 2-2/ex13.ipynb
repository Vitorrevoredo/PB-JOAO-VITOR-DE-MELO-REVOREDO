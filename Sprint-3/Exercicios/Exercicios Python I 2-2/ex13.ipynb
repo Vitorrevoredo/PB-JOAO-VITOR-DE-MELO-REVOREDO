{
 "cells": [
  {
   "cell_type": "markdown",
   "id": "af36dea7-327b-4d70-bd2f-004a73612694",
   "metadata": {},
   "source": [
    "Escreva um programa que lê o conteúdo do arquivo texto arquivo_texto.txt e imprime o seu conteúdo.\r\n",
    "\r\n",
    "Dica: leia a documentação da função open(...)"
   ]
  },
  {
   "cell_type": "code",
   "execution_count": null,
   "id": "56e234fc-b8a9-473b-938e-29b2d4f3e0fc",
   "metadata": {},
   "outputs": [],
   "source": [
    "with open('arquivo_texto.txt', 'r') as arquivo:\n",
    "    arquivolido= arquivo.read()\n",
    "print(arquivolido, end=\"\")"
   ]
  },
  {
   "cell_type": "markdown",
   "id": "07c9d932-458d-47e0-a61e-bd57e5a86fa3",
   "metadata": {},
   "source": [
    "Este conteúdo está em\r\n",
    "um\r\n",
    "arquivo\r\n",
    "de texto."
   ]
  }
 ],
 "metadata": {
  "kernelspec": {
   "display_name": "Python 3 (ipykernel)",
   "language": "python",
   "name": "python3"
  },
  "language_info": {
   "codemirror_mode": {
    "name": "ipython",
    "version": 3
   },
   "file_extension": ".py",
   "mimetype": "text/x-python",
   "name": "python",
   "nbconvert_exporter": "python",
   "pygments_lexer": "ipython3",
   "version": "3.12.4"
  }
 },
 "nbformat": 4,
 "nbformat_minor": 5
}
