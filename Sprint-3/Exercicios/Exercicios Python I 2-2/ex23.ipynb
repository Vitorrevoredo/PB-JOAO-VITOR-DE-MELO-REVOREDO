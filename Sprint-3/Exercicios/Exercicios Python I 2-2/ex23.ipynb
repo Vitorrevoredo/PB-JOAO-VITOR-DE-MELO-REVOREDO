{
 "cells": [
  {
   "cell_type": "markdown",
   "id": "7d365c53-a98c-4553-8200-52f6445e3f42",
   "metadata": {},
   "source": [
    "Crie uma classe  Calculo  que contenha um método que aceita dois parâmetros, X e Y, e retorne a soma dos dois. Nessa mesma classe, implemente um método de subtração, que aceita dois parâmetros, X e Y, e retorne a subtração dos dois (resultados negativos são permitidos).\n",
    "\r\n",
    "\r\n",
    "Utilize os valores abaixo para testar seu exercício:\r\n",
    "\r\n",
    "x = 4 \r\n",
    "y = 5\r\n",
    "imprima:\r\n",
    "\r\n",
    "Somando: 4+5 = 9\r\n",
    "Subtraindo: 4-5 = -1"
   ]
  },
  {
   "cell_type": "code",
   "execution_count": 1,
   "id": "8682d5f7-1284-4189-9fb6-6c264547ccdb",
   "metadata": {},
   "outputs": [
    {
     "name": "stdout",
     "output_type": "stream",
     "text": [
      "Somando: 4 + 5 = 9\n",
      "Subtraindo: 4 + 5 = -1\n"
     ]
    }
   ],
   "source": [
    "class Calculo:\n",
    "    def soma (x, y):\n",
    "        return x + y\n",
    "    def subtracao(x, y):\n",
    "        return x - y\n",
    "        \n",
    "x=4\n",
    "y=5\n",
    "print(f\"Somando: {x} + {y} = {Calculo.soma(x,y)}\")\n",
    "print(f\"Subtraindo: {x} + {y} = {Calculo.subtracao(x,y)}\")"
   ]
  },
  {
   "cell_type": "code",
   "execution_count": null,
   "id": "e06e8422-c6c8-4796-a2a3-62f413569161",
   "metadata": {},
   "outputs": [],
   "source": []
  }
 ],
 "metadata": {
  "kernelspec": {
   "display_name": "Python 3 (ipykernel)",
   "language": "python",
   "name": "python3"
  },
  "language_info": {
   "codemirror_mode": {
    "name": "ipython",
    "version": 3
   },
   "file_extension": ".py",
   "mimetype": "text/x-python",
   "name": "python",
   "nbconvert_exporter": "python",
   "pygments_lexer": "ipython3",
   "version": "3.12.4"
  }
 },
 "nbformat": 4,
 "nbformat_minor": 5
}
