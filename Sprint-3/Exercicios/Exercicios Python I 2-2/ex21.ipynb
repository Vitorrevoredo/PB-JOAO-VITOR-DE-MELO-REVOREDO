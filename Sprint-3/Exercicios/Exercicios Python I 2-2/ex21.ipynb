{
 "cells": [
  {
   "cell_type": "markdown",
   "id": "7cfffe18-3856-42bb-8fe2-1827b9ab8a10",
   "metadata": {},
   "source": [
    "Implemente duas classes, Pato e Pardal , que herdam de uma superclasse chamada Passaro as habilidades de voar e emitir som.\n",
    "\r\n",
    "\r\n",
    "Contudo, tanto Pato quanto Pardal devem emitir sons diferentes (de maneira escrita) no console, conforme o modelo a seg\n",
    "Imprima no console exatamente assim:\r\n",
    "\r\n",
    "Pato\r\n",
    "Voando...\r\n",
    "Pato emitindo som...\r\n",
    "Quack Quack\r\n",
    "Pardal\r\n",
    "Voando...\r\n",
    "Pardal emitindo som...\r\n",
    "Piu Piuuir."
   ]
  },
  {
   "cell_type": "code",
   "execution_count": 1,
   "id": "09766236-f4c2-464a-9b8f-c17b7b7f4fe0",
   "metadata": {},
   "outputs": [
    {
     "name": "stdout",
     "output_type": "stream",
     "text": [
      "Pato \n",
      "Voando...\n",
      "Pato emitindo som...\n",
      "Quack Quack\n",
      "\n",
      "Pardal \n",
      "Voando...\n",
      "Pardal emitindo som...\n",
      "Piu Piu\n"
     ]
    }
   ],
   "source": [
    "class Passaro:\n",
    "    def __init__(self, nome):\n",
    "        self.nome = nome\n",
    "\n",
    "    def voar(self):\n",
    "        return f\"{self.nome} \\nVoando...\"\n",
    "\n",
    "    def emitir_som(self):\n",
    "        pass\n",
    "\n",
    "#Pato\n",
    "class Pato(Passaro):\n",
    "    def emitir_som(self):\n",
    "        return f\"{self.nome} emitindo som...\\nQuack Quack\"\n",
    "\n",
    "#Pardal\n",
    "class Pardal(Passaro):\n",
    "    def emitir_som(self):\n",
    "        return f\"{self.nome} emitindo som...\\nPiu Piu\"\n",
    "\n",
    "\n",
    "def main():\n",
    "    pato = Pato(\"Pato\")\n",
    "    print(pato.voar())\n",
    "    print(pato.emitir_som())\n",
    "\n",
    "    print()  # Separação entre os pássaros\n",
    "\n",
    "    pardal = Pardal(\"Pardal\")\n",
    "    print(pardal.voar())\n",
    "    print(pardal.emitir_som())\n",
    "\n",
    "main()\n"
   ]
  },
  {
   "cell_type": "code",
   "execution_count": null,
   "id": "3da17c08-ab74-4522-88e3-75559c3731d7",
   "metadata": {},
   "outputs": [],
   "source": []
  }
 ],
 "metadata": {
  "kernelspec": {
   "display_name": "Python 3 (ipykernel)",
   "language": "python",
   "name": "python3"
  },
  "language_info": {
   "codemirror_mode": {
    "name": "ipython",
    "version": 3
   },
   "file_extension": ".py",
   "mimetype": "text/x-python",
   "name": "python",
   "nbconvert_exporter": "python",
   "pygments_lexer": "ipython3",
   "version": "3.12.4"
  }
 },
 "nbformat": 4,
 "nbformat_minor": 5
}
