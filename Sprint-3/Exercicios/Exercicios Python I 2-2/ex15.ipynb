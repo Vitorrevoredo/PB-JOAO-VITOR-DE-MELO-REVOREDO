{
 "cells": [
  {
   "cell_type": "markdown",
   "id": "b0f0994c-0d2a-4b17-bc3f-d386e8a93ad5",
   "metadata": {},
   "source": [
    "Implemente a classe Lampada. A classe Lâmpada recebe um booleano no seu construtor, Truese a lâmpada estiver ligada, False caso esteja desligada. A classe Lampada possuí os seguintes métodos:\r\n",
    "\r\n",
    "liga(): muda o estado da lâmpada para ligada\r\n",
    "\r\n",
    "desliga(): muda o estado da lâmpada para desligada\r\n",
    "\r\n",
    "esta_ligada(): retorna verdadeiro se a lâmpada estiver ligada, falso caso contrário\r\n",
    "\r\n",
    "Para testar su:\n",
    "Ligue a Lampada\r\n",
    "\r\n",
    "Imprima: A lâmpada está ligada? True\r\n",
    "\r\n",
    "Desligue a Lampada\r\n",
    "\r\n",
    "Imprima: A lâmpada ainda está ligada? Falsea classe"
   ]
  },
  {
   "cell_type": "code",
   "execution_count": null,
   "id": "59f0a079-ba6c-498e-aae7-6aa61d64c303",
   "metadata": {},
   "outputs": [],
   "source": [
    "class Lampada:\n",
    "    def __init__(self, estado_inicial):\n",
    "        self.ligada = estado_inicial\n",
    "\n",
    "    def liga(self):\n",
    "        self.ligada = True\n",
    "\n",
    "    def desliga(self):\n",
    "        self.ligada = False\n",
    "\n",
    "    def esta_ligada(self):\n",
    "        return self.ligada\n",
    "\n",
    "lampada = Lampada(False)\n",
    "\n",
    "# Ligando a lâmpada\n",
    "lampada.liga()\n",
    "print(f\"A lâmpada está ligada? {lampada.esta_ligada()}\") \n",
    "\n",
    "# Desligando a lâmpada\n",
    "lampada.desliga()\n",
    "print(f\"A lâmpada ainda está ligada? {lampada.esta_ligada()}\") \n"
   ]
  }
 ],
 "metadata": {
  "kernelspec": {
   "display_name": "Python 3 (ipykernel)",
   "language": "python",
   "name": "python3"
  },
  "language_info": {
   "codemirror_mode": {
    "name": "ipython",
    "version": 3
   },
   "file_extension": ".py",
   "mimetype": "text/x-python",
   "name": "python",
   "nbconvert_exporter": "python",
   "pygments_lexer": "ipython3",
   "version": "3.12.4"
  }
 },
 "nbformat": 4,
 "nbformat_minor": 5
}
