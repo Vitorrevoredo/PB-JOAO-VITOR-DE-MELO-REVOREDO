{
 "cells": [
  {
   "cell_type": "markdown",
   "id": "e0239cf9-103f-4898-b404-326c67173f72",
   "metadata": {},
   "source": [
    "Considere as duas listas abaixo:\r\n",
    "\r\n",
    "\r\n",
    "a = [1, 1, 2, 3, 5, 8, 14, 21, 34, 55, 89]\r\n",
    "b = [1, 2, 3, 4, 5, 6, 7, 8, 9, 10, 11, 12, 13, 14,15]\r\n",
    "\r\n",
    "\r\n",
    "Escreva um programa para avaliar o que ambas as listas têm em comum (sem repetições), imprimindo a lista de valores da interseção na saídaadrão.\r\n",
    "\r\n",
    "\r\n",
    "\r\n",
    "Importante:  Esperamos que você utilize o construtor set() em seu código"
   ]
  },
  {
   "cell_type": "code",
   "execution_count": 11,
   "id": "27dc5447-90af-43b6-8643-5ef1c7162d4c",
   "metadata": {},
   "outputs": [
    {
     "name": "stdout",
     "output_type": "stream",
     "text": [
      "[1, 2, 3, 5, 8, 14]\n"
     ]
    }
   ],
   "source": [
    "a = [1, 1, 2, 3, 5, 8, 14, 21, 34, 55, 89]\n",
    "b = [1, 2, 3, 4, 5, 6, 7, 8, 9, 10, 11, 12, 13, 14, 15]\n",
    "print(list(set(a).intersection(set(b))))"
   ]
  }
 ],
 "metadata": {
  "kernelspec": {
   "display_name": "Python 3 (ipykernel)",
   "language": "python",
   "name": "python3"
  },
  "language_info": {
   "codemirror_mode": {
    "name": "ipython",
    "version": 3
   },
   "file_extension": ".py",
   "mimetype": "text/x-python",
   "name": "python",
   "nbconvert_exporter": "python",
   "pygments_lexer": "ipython3",
   "version": "3.12.4"
  }
 },
 "nbformat": 4,
 "nbformat_minor": 5
}
