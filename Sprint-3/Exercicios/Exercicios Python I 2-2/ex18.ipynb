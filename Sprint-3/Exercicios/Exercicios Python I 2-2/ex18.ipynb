{
 "cells": [
  {
   "cell_type": "markdown",
   "id": "827fc15a-6c3e-4209-9d6e-9c1748e24375",
   "metadata": {},
   "source": [
    "Dado o dicionário a seguir:\n",
    "\r\n",
    "speed = {'jan':47, 'feb':52, 'march':47, 'April':44, 'May':52, 'June':53, 'july':54, 'Aug':44, 'Sept':5}\r\n",
    "\r\n",
    "Crie uma lista com todos os valores (não as chaves!) e coloque numa lista de forma que não haja valores duplicados."
   ]
  },
  {
   "cell_type": "code",
   "execution_count": 3,
   "id": "9b2cc29d-5cf3-4f9d-9e67-aa53ebe63fad",
   "metadata": {},
   "outputs": [
    {
     "name": "stdout",
     "output_type": "stream",
     "text": [
      "[44, 47, 52, 53, 54]\n"
     ]
    }
   ],
   "source": [
    "speed = {'jan':47, 'feb':52, 'march':47, 'April':44, 'May':52, 'June':53, 'july':54, 'Aug':44, 'Sept':54}\n",
    "lista = list(set(speed.values()))\n",
    "print(lista)"
   ]
  },
  {
   "cell_type": "code",
   "execution_count": null,
   "id": "821e961e-0380-4cd4-8f06-c5d2b48321a8",
   "metadata": {},
   "outputs": [],
   "source": []
  }
 ],
 "metadata": {
  "kernelspec": {
   "display_name": "Python 3 (ipykernel)",
   "language": "python",
   "name": "python3"
  },
  "language_info": {
   "codemirror_mode": {
    "name": "ipython",
    "version": 3
   },
   "file_extension": ".py",
   "mimetype": "text/x-python",
   "name": "python",
   "nbconvert_exporter": "python",
   "pygments_lexer": "ipython3",
   "version": "3.12.4"
  }
 },
 "nbformat": 4,
 "nbformat_minor": 5
}
