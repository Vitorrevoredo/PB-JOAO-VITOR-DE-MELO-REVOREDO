{
 "cells": [
  {
   "cell_type": "markdown",
   "id": "c3f2cee7-f0ba-42a0-b6ce-e40d14e27e3f",
   "metadata": {},
   "source": [
    "Implemente a função my_map(list, f) que recebe uma lista como primeiro argumento e uma função como segundo argumento. Esta função aplica a função recebida para cada elemento da lista recebida e retorna o resultado em uma nova lista.\n",
    "\r\n",
    "\r\n",
    "Teste sua função com a lista de entrada [1, 2, 3, 4, 5, 6, 7, 8, 9, 10] e com uma função que potência de 2 para cada elemento"
   ]
  },
  {
   "cell_type": "code",
   "execution_count": 5,
   "id": "6e3032c5-4b8b-4f50-a8ed-50a2b9b4df10",
   "metadata": {},
   "outputs": [
    {
     "name": "stdout",
     "output_type": "stream",
     "text": [
      "[1, 4, 9, 16, 25, 36, 49, 64, 81, 100]\n"
     ]
    }
   ],
   "source": [
    "def quadrado(x):\n",
    "    return x**2\n",
    "\n",
    "def my_map(list,f):\n",
    "    resultado = []\n",
    "    for i in list:\n",
    "        resultado.append(f(i))\n",
    "    return resultado\n",
    "list = [1, 2, 3, 4, 5, 6, 7, 8, 9, 10]\n",
    "\n",
    "resultado = my_map(list, quadrado)\n",
    "print(resultado)"
   ]
  },
  {
   "cell_type": "code",
   "execution_count": null,
   "id": "8ca238e6-aaf0-4203-836d-8004df412f0e",
   "metadata": {},
   "outputs": [],
   "source": []
  }
 ],
 "metadata": {
  "kernelspec": {
   "display_name": "Python 3 (ipykernel)",
   "language": "python",
   "name": "python3"
  },
  "language_info": {
   "codemirror_mode": {
    "name": "ipython",
    "version": 3
   },
   "file_extension": ".py",
   "mimetype": "text/x-python",
   "name": "python",
   "nbconvert_exporter": "python",
   "pygments_lexer": "ipython3",
   "version": "3.12.4"
  }
 },
 "nbformat": 4,
 "nbformat_minor": 5
}
