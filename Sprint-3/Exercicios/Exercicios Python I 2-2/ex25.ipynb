{
 "cells": [
  {
   "cell_type": "markdown",
   "id": "00cf0c67-9966-4e49-818a-edb1a2844863",
   "metadata": {},
   "source": [
    "Crie uma classe Avião que possua os atributos modelo, velocidade_maxima, cor e capacidade.\n",
    "\r\n",
    "Defina o atributo cor de sua classe , de maneira que todas as instâncias de sua classe avião sejam da cor “azul.\r\n",
    "\r\n",
    "Após isso, a partir de entradas abaixo, instancie e armazene em uma lista 3 objetos da classe Avão.\r\n",
    "\r\n",
    "Ao final, itere pela lista imprimindo cada um dos objetos no seguinte formato:\r\n",
    "\r\n",
    "“O avião de modelo “x” possui uma velocidade máxima de “y”, capacidade para “z” passageiros e é da or “w”.\r\n",
    "\r\n",
    "Sendo x, y, z e w cada um dos atributos da class“Avião”.\r\n",
    "\r\n",
    "\r\n",
    "\r\n",
    "Valores-  de entrada:\r\n",
    "\r\n",
    "modelo BOIENG456: velocidade máxima 1500 km/h: capacidade para 400 passage- iros: Cor Azul\r\n",
    "\r\n",
    "modelo Embraer Praetor 600: velocidade máxima 863km/h: capacidade para 14 passa- geiros: Cor Azul\r\n",
    "\r\n",
    "modelo Antonov An-2: velocidade máxima de 258 Km/h: capacidade para 12 passageiros: Cor Azul"
   ]
  },
  {
   "cell_type": "code",
   "execution_count": 1,
   "id": "370f963e-7a76-4884-a516-04fb8b10c13e",
   "metadata": {},
   "outputs": [
    {
     "name": "stdout",
     "output_type": "stream",
     "text": [
      "O avião de modelo \"BOIENG456\" possui uma velocidade máxima de \"1500 km/h\", capacidade para \"400\" passageiros e é da cor \"azul\".\n",
      "O avião de modelo \"Embraer Praetor 600\" possui uma velocidade máxima de \"863 km/h\", capacidade para \"14\" passageiros e é da cor \"azul\".\n",
      "O avião de modelo \"Antonov An-2\" possui uma velocidade máxima de \"258 km/h\", capacidade para \"12\" passageiros e é da cor \"azul\".\n"
     ]
    }
   ],
   "source": [
    "class Aviao:\n",
    "    def __init__(self, modelo, velocidade_maxima, capacidade):\n",
    "        self.modelo = modelo\n",
    "        self.velocidade_maxima = velocidade_maxima\n",
    "        self.capacidade = capacidade\n",
    "    cor = \"azul\"\n",
    "    \n",
    "listaAvioes = []\n",
    "avioes_entrada = [\n",
    "    (\"BOIENG456\", 1500, 400),\n",
    "    (\"Embraer Praetor 600\", 863, 14),\n",
    "    (\"Antonov An-2\", 258, 12)\n",
    "]\n",
    "\n",
    "# Instanciando os aviões e adicionando à lista\n",
    "for modelo, velocidade_maxima, capacidade in avioes_entrada:\n",
    "    aviao = Aviao(modelo, velocidade_maxima, capacidade)\n",
    "    listaAvioes.append(aviao)\n",
    "\n",
    "# Iterando pela lista e imprimindo os detalhes de cada avião\n",
    "for aviao in listaAvioes:\n",
    "    print(f'O avião de modelo \"{aviao.modelo}\" possui uma velocidade máxima de \"{aviao.velocidade_maxima} km/h\", '\n",
    "          f'capacidade para \"{aviao.capacidade}\" passageiros e é da cor \"{Aviao.cor}\".')\n"
   ]
  },
  {
   "cell_type": "code",
   "execution_count": null,
   "id": "d8bfa32e-983a-4cf4-a53c-7d540f299f96",
   "metadata": {},
   "outputs": [],
   "source": []
  }
 ],
 "metadata": {
  "kernelspec": {
   "display_name": "Python 3 (ipykernel)",
   "language": "python",
   "name": "python3"
  },
  "language_info": {
   "codemirror_mode": {
    "name": "ipython",
    "version": 3
   },
   "file_extension": ".py",
   "mimetype": "text/x-python",
   "name": "python",
   "nbconvert_exporter": "python",
   "pygments_lexer": "ipython3",
   "version": "3.12.4"
  }
 },
 "nbformat": 4,
 "nbformat_minor": 5
}
