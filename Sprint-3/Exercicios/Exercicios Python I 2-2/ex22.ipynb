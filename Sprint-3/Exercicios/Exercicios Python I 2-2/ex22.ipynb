{
 "cells": [
  {
   "cell_type": "markdown",
   "id": "ead7e0d9-aa8e-46fe-a40b-600df3cc0658",
   "metadata": {},
   "source": [
    "Crie uma classe chamada Pessoa, com um atributo privado chamado nome (declarado internamente na classe como __nome) e um atributo público de nome id.\n",
    "\r\n",
    "Adicione dois métodos à classe, sendo um para definir o valor de __nome e outro para retornar o valor do respectivo atribut\n",
    "Lembre-se que o acesso ao atributo privado deve ocorrer somente através dos métodos definidos, nunca diretamente.  Você pode alcançar este comportamento através do recurso de properties do Python.\n",
    "\r\n",
    "\r\n",
    "Veja um exemplo de como seu atributo privado pode ser lido e escr\n",
    "pessoa = Pessoa(0) \r\n",
    "pessoa.nome = 'Fulano De Tal'\r\n",
    "print(pessoa.nome)ito:o."
   ]
  },
  {
   "cell_type": "code",
   "execution_count": 1,
   "id": "bf944a42-46e3-49ce-a291-bc8f0d7c27d5",
   "metadata": {},
   "outputs": [
    {
     "name": "stdout",
     "output_type": "stream",
     "text": [
      "Fulano De Tal\n"
     ]
    }
   ],
   "source": [
    "class Pessoa:\n",
    "    def __init__(self, id):\n",
    "        # Atributo público\n",
    "        self.id = id\n",
    "        # Atributo privado\n",
    "        self.__nome = None\n",
    "\n",
    "    @property\n",
    "    def nome(self):\n",
    "        return self.__nome\n",
    "    @nome.setter\n",
    "    def nome(self, valor):\n",
    "        self.__nome = valor\n",
    "\n",
    "pessoa = Pessoa(0)\n",
    "pessoa.nome = 'Fulano De Tal'\n",
    "print(pessoa.nome) \n"
   ]
  }
 ],
 "metadata": {
  "kernelspec": {
   "display_name": "Python 3 (ipykernel)",
   "language": "python",
   "name": "python3"
  },
  "language_info": {
   "codemirror_mode": {
    "name": "ipython",
    "version": 3
   },
   "file_extension": ".py",
   "mimetype": "text/x-python",
   "name": "python",
   "nbconvert_exporter": "python",
   "pygments_lexer": "ipython3",
   "version": "3.12.4"
  }
 },
 "nbformat": 4,
 "nbformat_minor": 5
}
