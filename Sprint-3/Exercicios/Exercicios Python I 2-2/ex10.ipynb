{
 "cells": [
  {
   "cell_type": "markdown",
   "id": "f239b75c-a3c2-41ab-b57d-ddb982955a65",
   "metadata": {},
   "source": [
    "Escreva uma função que recebe uma lista e retorna uma nova lista sem elementos duplicados. Utilize a lista a seguir para testar sua função.\n",
    "\n",
    "['abc', 'abc', 'abc', '123', 'abc', '123', '123']"
   ]
  },
  {
   "cell_type": "code",
   "execution_count": 2,
   "id": "f18087a3-9558-4d11-ae60-f4a93942e3a3",
   "metadata": {},
   "outputs": [
    {
     "name": "stdout",
     "output_type": "stream",
     "text": [
      "['abc', '123']\n"
     ]
    }
   ],
   "source": [
    "lista = ['abc', 'abc', 'abc', '123', 'abc', '123', '123']\n",
    "print(list(set(lista)))"
   ]
  }
 ],
 "metadata": {
  "kernelspec": {
   "display_name": "Python 3 (ipykernel)",
   "language": "python",
   "name": "python3"
  },
  "language_info": {
   "codemirror_mode": {
    "name": "ipython",
    "version": 3
   },
   "file_extension": ".py",
   "mimetype": "text/x-python",
   "name": "python",
   "nbconvert_exporter": "python",
   "pygments_lexer": "ipython3",
   "version": "3.12.4"
  }
 },
 "nbformat": 4,
 "nbformat_minor": 5
}
