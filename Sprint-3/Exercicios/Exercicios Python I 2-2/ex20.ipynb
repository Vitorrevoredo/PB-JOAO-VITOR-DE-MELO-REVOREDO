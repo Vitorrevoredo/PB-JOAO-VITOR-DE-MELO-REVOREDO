{
 "cells": [
  {
   "cell_type": "markdown",
   "id": "3fc2eb8c-1650-444f-b5b9-5b7b1368954f",
   "metadata": {},
   "source": [
    "Imprima a lista abaixo de trás para frente.\r\n",
    "\r\n",
    "a = [1, 0, 2, 3, 5, 8, 13, 21, 34, 55, 89]"
   ]
  },
  {
   "cell_type": "code",
   "execution_count": 1,
   "id": "de4fc390-ef55-4394-8135-813cddf37324",
   "metadata": {},
   "outputs": [
    {
     "name": "stdout",
     "output_type": "stream",
     "text": [
      "[89, 55, 34, 21, 13, 8, 5, 3, 2, 0, 1]\n"
     ]
    }
   ],
   "source": [
    "a = [1, 0, 2, 3, 5, 8, 13, 21, 34, 55, 89]\n",
    "\n",
    "print(a[::-1])"
   ]
  }
 ],
 "metadata": {
  "kernelspec": {
   "display_name": "Python 3 (ipykernel)",
   "language": "python",
   "name": "python3"
  },
  "language_info": {
   "codemirror_mode": {
    "name": "ipython",
    "version": 3
   },
   "file_extension": ".py",
   "mimetype": "text/x-python",
   "name": "python",
   "nbconvert_exporter": "python",
   "pygments_lexer": "ipython3",
   "version": "3.12.4"
  }
 },
 "nbformat": 4,
 "nbformat_minor": 5
}
