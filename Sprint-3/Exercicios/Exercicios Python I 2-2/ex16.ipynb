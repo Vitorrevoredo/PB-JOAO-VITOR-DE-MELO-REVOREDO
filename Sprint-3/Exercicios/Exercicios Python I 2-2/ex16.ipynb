{
 "cells": [
  {
   "cell_type": "markdown",
   "id": "36d8ce1e-2dfc-4c47-b195-7fc6fa645ae4",
   "metadata": {},
   "source": [
    "Escreva uma função que recebe uma string de números separados por vírgula e retorne a soma de todos eles. Depois imprima a soma dos valores.\n",
    "\r\n",
    "\r\n",
    "A string deve ter valor  \"1,3,4,6,10,76\""
   ]
  },
  {
   "cell_type": "code",
   "execution_count": 16,
   "id": "ceec767d-bd35-4e8d-862f-be8cea4691ab",
   "metadata": {},
   "outputs": [
    {
     "name": "stdout",
     "output_type": "stream",
     "text": [
      "100\n"
     ]
    }
   ],
   "source": [
    "numeros = \"1,3,4,6,10,76\"\n",
    "\n",
    "def soma(num):\n",
    "    lista_numeros = num.split(',')\n",
    "    \n",
    "    soma_total = sum(int(numero) for numero in lista_numeros)\n",
    "    \n",
    "    return soma_total\n",
    "resultado = soma(numeros)\n",
    "print(resultado)\n"
   ]
  },
  {
   "cell_type": "code",
   "execution_count": null,
   "id": "c849027e-b807-4a15-8ed3-e24d57bc073d",
   "metadata": {},
   "outputs": [],
   "source": []
  }
 ],
 "metadata": {
  "kernelspec": {
   "display_name": "Python 3 (ipykernel)",
   "language": "python",
   "name": "python3"
  },
  "language_info": {
   "codemirror_mode": {
    "name": "ipython",
    "version": 3
   },
   "file_extension": ".py",
   "mimetype": "text/x-python",
   "name": "python",
   "nbconvert_exporter": "python",
   "pygments_lexer": "ipython3",
   "version": "3.12.4"
  }
 },
 "nbformat": 4,
 "nbformat_minor": 5
}
