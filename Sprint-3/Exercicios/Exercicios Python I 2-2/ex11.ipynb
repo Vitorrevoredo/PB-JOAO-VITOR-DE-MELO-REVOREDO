{
 "cells": [
  {
   "cell_type": "markdown",
   "id": "4accd8e4-e6cb-437a-bedf-0bb6ac4bca02",
   "metadata": {},
   "source": [
    "Leia o arquivo person.json, faça o parsing e imprima seu conteúdo.\r\n",
    "\r\n",
    "Dica: leia a documentação do pacote json"
   ]
  },
  {
   "cell_type": "code",
   "execution_count": null,
   "id": "c8142b7e-91ba-4e8c-9e3b-a96d22d9088e",
   "metadata": {},
   "outputs": [],
   "source": [
    "import json\n",
    "with open('person.json', 'r') as arquivo:\n",
    "    parsing = json.load(arquivo)\n",
    "print(parsing)"
   ]
  },
  {
   "cell_type": "code",
   "execution_count": null,
   "id": "23684a01-7bc5-4bd8-bed9-63e1e3ec13b7",
   "metadata": {},
   "outputs": [],
   "source": [
    "{'name': 'Fulano Da Silva', 'endereco': 'Rua Sem Nome, 31', 'startDateExecution': '2019-06-25 16:25:23.233', 'endDateExecution': '2019-06-25 16:25:23.331', 'siteId': 'BrasilDesktop', 'sitePage': '/', 'serverName': 'AS1332:10181', 'profileId': '8947071299', 'type': 'JSP_RENDERING', 'path': 'testado/com', 'performanceType': 'JSP_RENDERING'}"
   ]
  }
 ],
 "metadata": {
  "kernelspec": {
   "display_name": "Python 3 (ipykernel)",
   "language": "python",
   "name": "python3"
  },
  "language_info": {
   "codemirror_mode": {
    "name": "ipython",
    "version": 3
   },
   "file_extension": ".py",
   "mimetype": "text/x-python",
   "name": "python",
   "nbconvert_exporter": "python",
   "pygments_lexer": "ipython3",
   "version": "3.12.4"
  }
 },
 "nbformat": 4,
 "nbformat_minor": 5
}
