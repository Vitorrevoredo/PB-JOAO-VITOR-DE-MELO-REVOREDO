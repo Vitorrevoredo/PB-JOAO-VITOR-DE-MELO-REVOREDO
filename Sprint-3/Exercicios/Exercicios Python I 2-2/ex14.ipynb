{
 "cells": [
  {
   "cell_type": "markdown",
   "id": "9f4bf3e9-b372-4ae1-9b61-cfe123e89e30",
   "metadata": {},
   "source": [
    "Escreva uma função que recebe um número variável de parâmetros não nomeados e um número variado de parâmetros nomeados e imprime o valor de cada parâmetro recebido.\n",
    "\r\n",
    "\r\n",
    "Teste sua função com os seguintes parâmet:\r\n",
    "\r\n",
    "\r\n",
    "\r\n",
    "(1, 3, 4, 'hello', parametro_nomeado='alguma coisa', x=20)"
   ]
  },
  {
   "cell_type": "code",
   "execution_count": 11,
   "id": "5930ab1a-7579-40bc-b8c5-5d250f6dfb65",
   "metadata": {},
   "outputs": [
    {
     "name": "stdout",
     "output_type": "stream",
     "text": [
      "1\n",
      "3\n",
      "4\n",
      "hello\n",
      "alguma coisa\n",
      "20\n"
     ]
    }
   ],
   "source": [
    "def valores(*num,**par):\n",
    "    for i in num:\n",
    "        print(i)\n",
    "    for v in par.values():\n",
    "        print(v)\n",
    "valores(1, 3, 4, 'hello', parametro_nomeado='alguma coisa', x=20)"
   ]
  }
 ],
 "metadata": {
  "kernelspec": {
   "display_name": "Python 3 (ipykernel)",
   "language": "python",
   "name": "python3"
  },
  "language_info": {
   "codemirror_mode": {
    "name": "ipython",
    "version": 3
   },
   "file_extension": ".py",
   "mimetype": "text/x-python",
   "name": "python",
   "nbconvert_exporter": "python",
   "pygments_lexer": "ipython3",
   "version": "3.12.4"
  }
 },
 "nbformat": 4,
 "nbformat_minor": 5
}
