{
 "cells": [
  {
   "cell_type": "markdown",
   "id": "2ac0d34e-3376-4c3a-8803-963425f90ace",
   "metadata": {},
   "source": [
    "Escreva uma função que recebe como parâmetro uma lista e retorna 3 listas: a lista recebida dividida em 3 partes iguais. Teste sua implementação com a lista abaixo\n",
    "\r\n",
    "\r\n",
    "lista = [1, 2, 3, 4, 5, 6, 7, 8, 9, 10, 11, 12]"
   ]
  },
  {
   "cell_type": "code",
   "execution_count": 8,
   "id": "6ea1d55b-50c0-4cb4-8880-97b8ea3f36eb",
   "metadata": {},
   "outputs": [
    {
     "name": "stdout",
     "output_type": "stream",
     "text": [
      "[1, 2, 3, 4] [5, 6, 7, 8] [9, 10, 11, 12]\n"
     ]
    }
   ],
   "source": [
    "lista = [1, 2, 3, 4, 5, 6, 7, 8, 9, 10, 11, 12]\n",
    "\n",
    "def dividirLista(list):\n",
    "    tamanho = len(lista) // 3\n",
    "    parte1 = lista[:tamanho]\n",
    "    parte2 = lista[tamanho:tamanho*2]\n",
    "    parte3 = lista[tamanho*2:] \n",
    "    return parte1, parte2, parte3\n",
    "    \n",
    "parte1,parte2,parte3= dividirLista(lista)\n",
    "print(parte1, end=' ')\n",
    "print(parte2, end=' ')\n",
    "print(parte3)"
   ]
  },
  {
   "cell_type": "code",
   "execution_count": null,
   "id": "b3b0c609-6b12-4083-93f7-eedf726e23ae",
   "metadata": {},
   "outputs": [],
   "source": []
  }
 ],
 "metadata": {
  "kernelspec": {
   "display_name": "Python 3 (ipykernel)",
   "language": "python",
   "name": "python3"
  },
  "language_info": {
   "codemirror_mode": {
    "name": "ipython",
    "version": 3
   },
   "file_extension": ".py",
   "mimetype": "text/x-python",
   "name": "python",
   "nbconvert_exporter": "python",
   "pygments_lexer": "ipython3",
   "version": "3.12.4"
  }
 },
 "nbformat": 4,
 "nbformat_minor": 5
}
