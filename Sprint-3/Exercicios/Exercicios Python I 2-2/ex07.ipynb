{
 "cells": [
  {
   "cell_type": "markdown",
   "id": "84c5da81-1a06-4a9f-b6aa-41a3363a0a87",
   "metadata": {},
   "source": [
    "Dada a seguinte lista:\n",
    "\r\n",
    "\r\n",
    "a = [1, 4, 9, 16, 25, 36, 49, 64, 81, ]\r\n",
    "\r\n",
    "\r\n",
    "\r\n",
    "Faça um programa que gere uma nova lista contendo apenas números ímpares."
   ]
  },
  {
   "cell_type": "code",
   "execution_count": 7,
   "id": "f310aad7-17ed-43c9-ac69-883644a2ff95",
   "metadata": {},
   "outputs": [
    {
     "name": "stdout",
     "output_type": "stream",
     "text": [
      "[1, 9, 25, 49, 81]\n"
     ]
    }
   ],
   "source": [
    "a = [1, 4, 9, 16, 25, 36, 49, 64, 81, 100]\n",
    "b= list()\n",
    "for c in a:\n",
    "    if c % 2 != 0:\n",
    "        b.append(c)\n",
    "print(b)"
   ]
  }
 ],
 "metadata": {
  "kernelspec": {
   "display_name": "Python 3 (ipykernel)",
   "language": "python",
   "name": "python3"
  },
  "language_info": {
   "codemirror_mode": {
    "name": "ipython",
    "version": 3
   },
   "file_extension": ".py",
   "mimetype": "text/x-python",
   "name": "python",
   "nbconvert_exporter": "python",
   "pygments_lexer": "ipython3",
   "version": "3.12.4"
  }
 },
 "nbformat": 4,
 "nbformat_minor": 5
}
