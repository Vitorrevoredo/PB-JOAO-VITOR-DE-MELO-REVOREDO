{
 "cells": [
  {
   "cell_type": "markdown",
   "id": "47233ba9-524e-47a6-b713-2bb0e2541191",
   "metadata": {},
   "source": [
    "Crie uma classe Ordenadora que contenha um atributo listaBaguncada e que contenha os métodos ordenacaoCrescente e ordenacaoDecrescente.\n",
    "\n",
    "Instancie um objeto chamado crescente dessa classe Ordenadora que tenha como listaBaguncada a lista [3,4,2,1,5] e instancie um outro objeto, decrescente dessa mesma classe com uma outra listaBaguncada sendo [9,7,6,8].\n",
    "\n",
    "Para o primeiro objeto citado, use o método ordenacaoCrescente e para o segundo objeto, use o método ordenacaoDecrescenImprima o resultado da ordenação crescente e da ordenação decrescente\n",
    "\n",
    "[1, 2, 3, 4, 5] \n",
    "[9, 8, 7, 6].\n",
    "\n"
   ]
  },
  {
   "cell_type": "code",
   "execution_count": 1,
   "id": "eea42df5-3325-473f-978f-2dceb3e35e60",
   "metadata": {},
   "outputs": [
    {
     "name": "stdout",
     "output_type": "stream",
     "text": [
      "[1, 2, 3, 4, 5]\n",
      "[9, 8, 7, 6]\n"
     ]
    }
   ],
   "source": [
    "class Ordenadora:\n",
    "    def __init__(self, listaBaguncada):\n",
    "        self.listaBaguncada= listaBaguncada\n",
    "        \n",
    "    def ordenacaoCrescente(self):\n",
    "        return (sorted(self.listaBaguncada))\n",
    "        \n",
    "    def ordenacaoDecrescente(self):\n",
    "        return (sorted(self.listaBaguncada, reverse=True))\n",
    "        \n",
    "crescente= Ordenadora([3,4,2,1,5])\n",
    "print(crescente.ordenacaoCrescente())\n",
    "decrescente = Ordenadora([9, 7, 6, 8])\n",
    "print(decrescente.ordenacaoDecrescente())"
   ]
  },
  {
   "cell_type": "code",
   "execution_count": null,
   "id": "be4799bb-c183-4c90-aa74-893b988182c4",
   "metadata": {},
   "outputs": [],
   "source": []
  }
 ],
 "metadata": {
  "kernelspec": {
   "display_name": "Python 3 (ipykernel)",
   "language": "python",
   "name": "python3"
  },
  "language_info": {
   "codemirror_mode": {
    "name": "ipython",
    "version": 3
   },
   "file_extension": ".py",
   "mimetype": "text/x-python",
   "name": "python",
   "nbconvert_exporter": "python",
   "pygments_lexer": "ipython3",
   "version": "3.12.4"
  }
 },
 "nbformat": 4,
 "nbformat_minor": 5
}
